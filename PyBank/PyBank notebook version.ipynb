{
 "cells": [
  {
   "cell_type": "code",
   "execution_count": 1,
   "metadata": {},
   "outputs": [],
   "source": [
    "import os\n",
    "import csv"
   ]
  },
  {
   "cell_type": "code",
   "execution_count": 2,
   "metadata": {},
   "outputs": [],
   "source": [
    "csvpath = os.path.join('..', 'Resources', 'budget_data.csv')"
   ]
  },
  {
   "cell_type": "code",
   "execution_count": 45,
   "metadata": {},
   "outputs": [
    {
     "data": {
      "text/plain": [
       "{'Jan-2010': 867884,\n",
       " 'Feb-2010': 984655,\n",
       " 'Mar-2010': 322013,\n",
       " 'Apr-2010': -69417,\n",
       " 'May-2010': 310503,\n",
       " 'Jun-2010': 522857,\n",
       " 'Jul-2010': 1033096,\n",
       " 'Aug-2010': 604885,\n",
       " 'Sep-2010': -216386,\n",
       " 'Oct-2010': 477532,\n",
       " 'Nov-2010': 893810,\n",
       " 'Dec-2010': -80353,\n",
       " 'Jan-2011': 779806,\n",
       " 'Feb-2011': -335203,\n",
       " 'Mar-2011': 697845,\n",
       " 'Apr-2011': 793163,\n",
       " 'May-2011': 485070,\n",
       " 'Jun-2011': 584122,\n",
       " 'Jul-2011': 62729,\n",
       " 'Aug-2011': 668179,\n",
       " 'Sep-2011': 899906,\n",
       " 'Oct-2011': 834719,\n",
       " 'Nov-2011': 132003,\n",
       " 'Dec-2011': 309978,\n",
       " 'Jan-2012': -755566,\n",
       " 'Feb-2012': 1170593,\n",
       " 'Mar-2012': 252788,\n",
       " 'Apr-2012': 1151518,\n",
       " 'May-2012': 817256,\n",
       " 'Jun-2012': 570757,\n",
       " 'Jul-2012': 506702,\n",
       " 'Aug-2012': -1022534,\n",
       " 'Sep-2012': 475062,\n",
       " 'Oct-2012': 779976,\n",
       " 'Nov-2012': 144175,\n",
       " 'Dec-2012': 542494,\n",
       " 'Jan-2013': 359333,\n",
       " 'Feb-2013': 321469,\n",
       " 'Mar-2013': 67780,\n",
       " 'Apr-2013': 471435,\n",
       " 'May-2013': 565603,\n",
       " 'Jun-2013': 872480,\n",
       " 'Jul-2013': 789480,\n",
       " 'Aug-2013': 999942,\n",
       " 'Sep-2013': -1196225,\n",
       " 'Oct-2013': 268997,\n",
       " 'Nov-2013': -687986,\n",
       " 'Dec-2013': 1150461,\n",
       " 'Jan-2014': 682458,\n",
       " 'Feb-2014': 617856,\n",
       " 'Mar-2014': 824098,\n",
       " 'Apr-2014': 581943,\n",
       " 'May-2014': 132864,\n",
       " 'Jun-2014': 448062,\n",
       " 'Jul-2014': 689161,\n",
       " 'Aug-2014': 800701,\n",
       " 'Sep-2014': 1166643,\n",
       " 'Oct-2014': 947333,\n",
       " 'Nov-2014': 578668,\n",
       " 'Dec-2014': 988505,\n",
       " 'Jan-2015': 1139715,\n",
       " 'Feb-2015': 1029471,\n",
       " 'Mar-2015': 687533,\n",
       " 'Apr-2015': -524626,\n",
       " 'May-2015': 158620,\n",
       " 'Jun-2015': 87795,\n",
       " 'Jul-2015': 423389,\n",
       " 'Aug-2015': 840723,\n",
       " 'Sep-2015': 568529,\n",
       " 'Oct-2015': 332067,\n",
       " 'Nov-2015': 989499,\n",
       " 'Dec-2015': 778237,\n",
       " 'Jan-2016': 650000,\n",
       " 'Feb-2016': -1100387,\n",
       " 'Mar-2016': -174946,\n",
       " 'Apr-2016': 757143,\n",
       " 'May-2016': 445709,\n",
       " 'Jun-2016': 712961,\n",
       " 'Jul-2016': -1163797,\n",
       " 'Aug-2016': 569899,\n",
       " 'Sep-2016': 768450,\n",
       " 'Oct-2016': 102685,\n",
       " 'Nov-2016': 795914,\n",
       " 'Dec-2016': 60988,\n",
       " 'Jan-2017': 138230,\n",
       " 'Feb-2017': 671099}"
      ]
     },
     "execution_count": 45,
     "metadata": {},
     "output_type": "execute_result"
    }
   ],
   "source": [
    "#add rows in CSVreader object to a dictionary with date as key and proft/loss as value\n",
    "with open(csvpath, newline='') as csvfile:\n",
    "    csvreader = csv.reader(csvfile, delimiter=',')\n",
    "    bank_dict= {row[0]:row[1] for row in csvreader}\n",
    "    bank_dict.pop('Date')\n",
    "    bank_dict = {k:int(v) for k, v in bank_dict.items()}\n",
    "bank_dict"
   ]
  },
  {
   "cell_type": "code",
   "execution_count": 4,
   "metadata": {},
   "outputs": [
    {
     "data": {
      "text/plain": [
       "86"
      ]
     },
     "execution_count": 4,
     "metadata": {},
     "output_type": "execute_result"
    }
   ],
   "source": [
    "#The total number of months included in the dataset\n",
    "total_months = len(bank_dict)\n",
    "total_months"
   ]
  },
  {
   "cell_type": "code",
   "execution_count": 46,
   "metadata": {},
   "outputs": [],
   "source": [
    "#The net total amount of profit/losses over the entire period\n",
    "total_pnl = sum(bank_dict.values())"
   ]
  },
  {
   "cell_type": "code",
   "execution_count": 94,
   "metadata": {
    "scrolled": true
   },
   "outputs": [
    {
     "data": {
      "text/plain": [
       "-2315.1176470588234"
      ]
     },
     "execution_count": 94,
     "metadata": {},
     "output_type": "execute_result"
    }
   ],
   "source": [
    "#  * The average of the changes in \"Profit/Losses\" over the entire period\n",
    "keys_list=[]\n",
    "values_list=[]\n",
    "for k,v in bank_dict.items():\n",
    "    keys_list.append(k)\n",
    "    values_list.append(v)\n",
    "deltas=[values_list[i+1]-values_list[i]for i in range(len(values_list)-1)]\n",
    "deltas_avg=sum(deltas)/len(deltas)\n",
    "deltas_avg"
   ]
  },
  {
   "cell_type": "code",
   "execution_count": 99,
   "metadata": {},
   "outputs": [
    {
     "data": {
      "text/plain": [
       "{'Feb-2012': 1926159}"
      ]
     },
     "execution_count": 99,
     "metadata": {},
     "output_type": "execute_result"
    }
   ],
   "source": [
    "#  * The greatest increase in profits (date and amount) over the entire period\n",
    "deltas_dict=dict(zip(deltas, keys_list[1:]))\n",
    "max_v=max(deltas_dict.keys())\n",
    "max_k=deltas_dict[max_v]\n",
    "max_d={max_k:max_v}\n",
    "max_d"
   ]
  },
  {
   "cell_type": "code",
   "execution_count": 105,
   "metadata": {},
   "outputs": [
    {
     "data": {
      "text/plain": [
       "{'Sep-2013': -2196167}"
      ]
     },
     "execution_count": 105,
     "metadata": {},
     "output_type": "execute_result"
    }
   ],
   "source": [
    "#   * The greatest decrease in losses (date and amount) over the entire period\n",
    "min_v=min(deltas_dict.keys())\n",
    "min_k=deltas_dict[min_v]\n",
    "min_d={min_k:min_v}\n",
    "min_d"
   ]
  },
  {
   "cell_type": "code",
   "execution_count": 124,
   "metadata": {},
   "outputs": [
    {
     "name": "stdout",
     "output_type": "stream",
     "text": [
      "\n",
      "Financial Analysis\n",
      "----------------------------\n",
      "    Total Months: 86\n",
      "    Total: $38382578\n",
      "    f\"Total Months: 86\n",
      "    Total: $38382578\n",
      "    Average Change: $-2315.1176470588234\n",
      "    Greatest Increase in Profits: Feb-2012 ($1926159)\n",
      "    Greatest Decrease in Profits: Sep-2013 ($-2196167)\n",
      "    \n"
     ]
    }
   ],
   "source": [
    "#Your final script should both print the analysis to the terminal and export a text file with the results.\n",
    "'''  ```text\n",
    "  Financial Analysis\n",
    "  ----------------------------\n",
    "  Total Months: 86\n",
    "  Total: $38382578\n",
    "  Average  Change: $-2315.12\n",
    "  Greatest Increase in Profits: Feb-2012 ($1926159)\n",
    "  Greatest Decrease in Profits: Sep-2013 ($-2196167)'''\n",
    "\n",
    "output_text = f'''\n",
    "Financial Analysis\n",
    "----------------------------\n",
    "    Total Months: {total_months}\n",
    "    Total: ${total_pnl}\n",
    "    f\"Total Months: {total_months}\n",
    "    Total: ${total_pnl}\n",
    "    Average Change: ${deltas_avg}\n",
    "    Greatest Increase in Profits: {max_k} (${max_v})\n",
    "    Greatest Decrease in Profits: {min_k} (${min_v})\n",
    "    '''\n",
    "print(output_text)"
   ]
  },
  {
   "cell_type": "code",
   "execution_count": 125,
   "metadata": {},
   "outputs": [],
   "source": [
    "outfile_path = os.path.join('..','output','Financial_summary.txt')"
   ]
  },
  {
   "cell_type": "code",
   "execution_count": 126,
   "metadata": {},
   "outputs": [],
   "source": [
    "file = open('../summary.txt',\"w\") \n",
    "file.write(output_text)\n",
    "file.close() "
   ]
  },
  {
   "cell_type": "code",
   "execution_count": null,
   "metadata": {},
   "outputs": [],
   "source": []
  }
 ],
 "metadata": {
  "kernelspec": {
   "display_name": "Python [conda env:PythonData] *",
   "language": "python",
   "name": "conda-env-PythonData-py"
  },
  "language_info": {
   "codemirror_mode": {
    "name": "ipython",
    "version": 3
   },
   "file_extension": ".py",
   "mimetype": "text/x-python",
   "name": "python",
   "nbconvert_exporter": "python",
   "pygments_lexer": "ipython3",
   "version": "3.6.8"
  }
 },
 "nbformat": 4,
 "nbformat_minor": 2
}
