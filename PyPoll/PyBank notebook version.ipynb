{
 "cells": [
  {
   "cell_type": "code",
   "execution_count": 1,
   "metadata": {},
   "outputs": [],
   "source": [
    "import os\n",
    "import csv"
   ]
  },
  {
   "cell_type": "code",
   "execution_count": 2,
   "metadata": {},
   "outputs": [],
   "source": [
    "csvpath = os.path.join('..', 'Resources', 'election_data.csv')"
   ]
  },
  {
   "cell_type": "code",
   "execution_count": 86,
   "metadata": {},
   "outputs": [
    {
     "name": "stdout",
     "output_type": "stream",
     "text": [
      "3521001\n"
     ]
    }
   ],
   "source": [
    "#The total number of votes cast\n",
    "with open(csvpath, newline='') as csvfile:\n",
    "    csvreader = csv.reader(csvfile, delimiter=',')\n",
    "    votes_list=[row[2] for row in csvreader]\n",
    "    votes_list.pop(0)\n",
    "    vote_total = len(votes_list)\n",
    "    print(vote_total)"
   ]
  },
  {
   "cell_type": "code",
   "execution_count": 16,
   "metadata": {},
   "outputs": [
    {
     "name": "stdout",
     "output_type": "stream",
     "text": [
      "['Khan', 'Correy', 'Li', \"O'Tooley\"]\n"
     ]
    }
   ],
   "source": [
    "#A complete list of candidates who received votes\n",
    "candidates = []\n",
    "for x in votes_list:\n",
    "    if x not in candidates:\n",
    "        candidates.append(x)\n",
    "print(candidates)"
   ]
  },
  {
   "cell_type": "code",
   "execution_count": 21,
   "metadata": {},
   "outputs": [
    {
     "data": {
      "text/plain": [
       "3521001"
      ]
     },
     "execution_count": 21,
     "metadata": {},
     "output_type": "execute_result"
    }
   ],
   "source": [
    "#The total number of votes each candidate won\n"
   ]
  },
  {
   "cell_type": "code",
   "execution_count": 78,
   "metadata": {},
   "outputs": [],
   "source": [
    "def vote_percent(str):\n",
    "    pc = \"{:.2%}\".format(votes_list.count(str)/vote_total)\n",
    "    return pc"
   ]
  },
  {
   "cell_type": "code",
   "execution_count": 81,
   "metadata": {},
   "outputs": [],
   "source": [
    "def vote_count(str):\n",
    "    count=votes_list.count(str)\n",
    "    return count"
   ]
  },
  {
   "cell_type": "code",
   "execution_count": 82,
   "metadata": {},
   "outputs": [],
   "source": [
    "#The percentage of votes each candidate won\n",
    "khan_pc= vote_percent('Khan')\n",
    "correy_pc= vote_percent('Correy')\n",
    "li_pc = vote_percent('Li')\n",
    "ot_pc= vote_percent(\"O'Tooley\")"
   ]
  },
  {
   "cell_type": "code",
   "execution_count": 84,
   "metadata": {},
   "outputs": [],
   "source": [
    "khan_count = vote_count('Khan')\n",
    "correy_count=vote_count('Correy')\n",
    "li_count = vote_count('Li')\n",
    "ot_count = vote_count(\"O'Tooley\")"
   ]
  },
  {
   "cell_type": "code",
   "execution_count": 62,
   "metadata": {
    "scrolled": true
   },
   "outputs": [],
   "source": [
    "votes_d=dict(zip([khan_count,correy_count,li_count,ot_count],candidates))\n",
    "winning_count=max(votes_d.keys())"
   ]
  },
  {
   "cell_type": "code",
   "execution_count": 87,
   "metadata": {},
   "outputs": [
    {
     "name": "stdout",
     "output_type": "stream",
     "text": [
      "\n",
      "Election Results\n",
      "-------------------------\n",
      "Total votes: \n",
      "-------------------------\n",
      "Khan: 63.00% (2218231)\n",
      "Correy: 20.00% (704200)\n",
      "Li: 14.00% (492940)\n",
      "O'Tooley: 3.00% (105630)\n",
      "-------------------------\n",
      "Winner: Khan\n",
      "\n"
     ]
    }
   ],
   "source": [
    "output_text=f'''\n",
    "Election Results\n",
    "-------------------------\n",
    "Total votes: \n",
    "-------------------------\n",
    "Khan: {khan_pc} ({khan_count})\n",
    "Correy: {correy_pc} ({correy_count})\n",
    "Li: {li_pc} ({li_count})\n",
    "O'Tooley: {ot_pc} ({ot_count})\n",
    "-------------------------\n",
    "Winner: {votes_d[winning_count]}\n",
    "'''\n",
    "\n",
    "print(output_text)"
   ]
  },
  {
   "cell_type": "code",
   "execution_count": 88,
   "metadata": {},
   "outputs": [],
   "source": [
    "file = open('../election_summary.txt',\"w\") \n",
    "file.write(output_text)\n",
    "file.close() "
   ]
  },
  {
   "cell_type": "code",
   "execution_count": null,
   "metadata": {},
   "outputs": [],
   "source": []
  }
 ],
 "metadata": {
  "kernelspec": {
   "display_name": "Python [conda env:PythonData] *",
   "language": "python",
   "name": "conda-env-PythonData-py"
  },
  "language_info": {
   "codemirror_mode": {
    "name": "ipython",
    "version": 3
   },
   "file_extension": ".py",
   "mimetype": "text/x-python",
   "name": "python",
   "nbconvert_exporter": "python",
   "pygments_lexer": "ipython3",
   "version": "3.6.8"
  }
 },
 "nbformat": 4,
 "nbformat_minor": 2
}
